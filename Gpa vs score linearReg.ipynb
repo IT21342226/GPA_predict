{
 "cells": [
  {
   "cell_type": "code",
   "execution_count": 1,
   "id": "41f50f2f",
   "metadata": {},
   "outputs": [],
   "source": [
    "import pandas as pd\n",
    "import matplotlib.pyplot as plt"
   ]
  },
  {
   "cell_type": "code",
   "execution_count": 2,
   "id": "1f22d6d6",
   "metadata": {},
   "outputs": [],
   "source": [
    "data = pd.read_csv('Downloads/gpa.csv')"
   ]
  },
  {
   "cell_type": "code",
   "execution_count": 3,
   "id": "b223500d",
   "metadata": {},
   "outputs": [
    {
     "data": {
      "text/html": [
       "<div>\n",
       "<style scoped>\n",
       "    .dataframe tbody tr th:only-of-type {\n",
       "        vertical-align: middle;\n",
       "    }\n",
       "\n",
       "    .dataframe tbody tr th {\n",
       "        vertical-align: top;\n",
       "    }\n",
       "\n",
       "    .dataframe thead th {\n",
       "        text-align: right;\n",
       "    }\n",
       "</style>\n",
       "<table border=\"1\" class=\"dataframe\">\n",
       "  <thead>\n",
       "    <tr style=\"text-align: right;\">\n",
       "      <th></th>\n",
       "      <th>HS GPA</th>\n",
       "      <th>SAT Score</th>\n",
       "    </tr>\n",
       "  </thead>\n",
       "  <tbody>\n",
       "    <tr>\n",
       "      <th>0</th>\n",
       "      <td>3.4</td>\n",
       "      <td>1270</td>\n",
       "    </tr>\n",
       "    <tr>\n",
       "      <th>1</th>\n",
       "      <td>4.0</td>\n",
       "      <td>1220</td>\n",
       "    </tr>\n",
       "    <tr>\n",
       "      <th>2</th>\n",
       "      <td>3.8</td>\n",
       "      <td>1160</td>\n",
       "    </tr>\n",
       "    <tr>\n",
       "      <th>3</th>\n",
       "      <td>3.8</td>\n",
       "      <td>950</td>\n",
       "    </tr>\n",
       "    <tr>\n",
       "      <th>4</th>\n",
       "      <td>4.0</td>\n",
       "      <td>1070</td>\n",
       "    </tr>\n",
       "    <tr>\n",
       "      <th>...</th>\n",
       "      <td>...</td>\n",
       "      <td>...</td>\n",
       "    </tr>\n",
       "    <tr>\n",
       "      <th>995</th>\n",
       "      <td>3.7</td>\n",
       "      <td>1000</td>\n",
       "    </tr>\n",
       "    <tr>\n",
       "      <th>996</th>\n",
       "      <td>3.3</td>\n",
       "      <td>1080</td>\n",
       "    </tr>\n",
       "    <tr>\n",
       "      <th>997</th>\n",
       "      <td>3.5</td>\n",
       "      <td>1140</td>\n",
       "    </tr>\n",
       "    <tr>\n",
       "      <th>998</th>\n",
       "      <td>2.3</td>\n",
       "      <td>1200</td>\n",
       "    </tr>\n",
       "    <tr>\n",
       "      <th>999</th>\n",
       "      <td>2.7</td>\n",
       "      <td>930</td>\n",
       "    </tr>\n",
       "  </tbody>\n",
       "</table>\n",
       "<p>1000 rows × 2 columns</p>\n",
       "</div>"
      ],
      "text/plain": [
       "     HS GPA  SAT Score\n",
       "0       3.4       1270\n",
       "1       4.0       1220\n",
       "2       3.8       1160\n",
       "3       3.8        950\n",
       "4       4.0       1070\n",
       "..      ...        ...\n",
       "995     3.7       1000\n",
       "996     3.3       1080\n",
       "997     3.5       1140\n",
       "998     2.3       1200\n",
       "999     2.7        930\n",
       "\n",
       "[1000 rows x 2 columns]"
      ]
     },
     "execution_count": 3,
     "metadata": {},
     "output_type": "execute_result"
    }
   ],
   "source": [
    "data"
   ]
  },
  {
   "cell_type": "code",
   "execution_count": 4,
   "id": "4add837d",
   "metadata": {},
   "outputs": [
    {
     "name": "stdout",
     "output_type": "stream",
     "text": [
      "<class 'pandas.core.frame.DataFrame'>\n",
      "RangeIndex: 1000 entries, 0 to 999\n",
      "Data columns (total 2 columns):\n",
      " #   Column     Non-Null Count  Dtype  \n",
      "---  ------     --------------  -----  \n",
      " 0   HS GPA     1000 non-null   float64\n",
      " 1   SAT Score  1000 non-null   int64  \n",
      "dtypes: float64(1), int64(1)\n",
      "memory usage: 15.8 KB\n"
     ]
    }
   ],
   "source": [
    "data.info()"
   ]
  },
  {
   "cell_type": "code",
   "execution_count": null,
   "id": "185131a6",
   "metadata": {},
   "outputs": [],
   "source": []
  },
  {
   "cell_type": "code",
   "execution_count": 5,
   "id": "ef78a25c",
   "metadata": {},
   "outputs": [
    {
     "data": {
      "text/html": [
       "<div>\n",
       "<style scoped>\n",
       "    .dataframe tbody tr th:only-of-type {\n",
       "        vertical-align: middle;\n",
       "    }\n",
       "\n",
       "    .dataframe tbody tr th {\n",
       "        vertical-align: top;\n",
       "    }\n",
       "\n",
       "    .dataframe thead th {\n",
       "        text-align: right;\n",
       "    }\n",
       "</style>\n",
       "<table border=\"1\" class=\"dataframe\">\n",
       "  <thead>\n",
       "    <tr style=\"text-align: right;\">\n",
       "      <th></th>\n",
       "      <th>HS GPA</th>\n",
       "      <th>SAT Score</th>\n",
       "    </tr>\n",
       "  </thead>\n",
       "  <tbody>\n",
       "    <tr>\n",
       "      <th>count</th>\n",
       "      <td>1000.000000</td>\n",
       "      <td>1000.000000</td>\n",
       "    </tr>\n",
       "    <tr>\n",
       "      <th>mean</th>\n",
       "      <td>3.203700</td>\n",
       "      <td>1033.290000</td>\n",
       "    </tr>\n",
       "    <tr>\n",
       "      <th>std</th>\n",
       "      <td>0.542541</td>\n",
       "      <td>142.873681</td>\n",
       "    </tr>\n",
       "    <tr>\n",
       "      <th>min</th>\n",
       "      <td>1.800000</td>\n",
       "      <td>530.000000</td>\n",
       "    </tr>\n",
       "    <tr>\n",
       "      <th>25%</th>\n",
       "      <td>2.800000</td>\n",
       "      <td>930.000000</td>\n",
       "    </tr>\n",
       "    <tr>\n",
       "      <th>50%</th>\n",
       "      <td>3.200000</td>\n",
       "      <td>1030.000000</td>\n",
       "    </tr>\n",
       "    <tr>\n",
       "      <th>75%</th>\n",
       "      <td>3.700000</td>\n",
       "      <td>1130.000000</td>\n",
       "    </tr>\n",
       "    <tr>\n",
       "      <th>max</th>\n",
       "      <td>4.500000</td>\n",
       "      <td>1440.000000</td>\n",
       "    </tr>\n",
       "  </tbody>\n",
       "</table>\n",
       "</div>"
      ],
      "text/plain": [
       "            HS GPA    SAT Score\n",
       "count  1000.000000  1000.000000\n",
       "mean      3.203700  1033.290000\n",
       "std       0.542541   142.873681\n",
       "min       1.800000   530.000000\n",
       "25%       2.800000   930.000000\n",
       "50%       3.200000  1030.000000\n",
       "75%       3.700000  1130.000000\n",
       "max       4.500000  1440.000000"
      ]
     },
     "execution_count": 5,
     "metadata": {},
     "output_type": "execute_result"
    }
   ],
   "source": [
    "data.describe()"
   ]
  },
  {
   "cell_type": "code",
   "execution_count": 6,
   "id": "7a0e258d",
   "metadata": {},
   "outputs": [
    {
     "data": {
      "text/plain": [
       "HS GPA       0\n",
       "SAT Score    0\n",
       "dtype: int64"
      ]
     },
     "execution_count": 6,
     "metadata": {},
     "output_type": "execute_result"
    }
   ],
   "source": [
    "data.isnull().sum()"
   ]
  },
  {
   "cell_type": "code",
   "execution_count": 7,
   "id": "30d4d385",
   "metadata": {},
   "outputs": [
    {
     "data": {
      "text/plain": [
       "array([[<Axes: title={'center': 'HS GPA'}>,\n",
       "        <Axes: title={'center': 'SAT Score'}>]], dtype=object)"
      ]
     },
     "execution_count": 7,
     "metadata": {},
     "output_type": "execute_result"
    },
    {
     "data": {
      "image/png": "[encoded data removed]",
      "text/plain": [
       "<Figure size 640x480 with 2 Axes>"
      ]
     },
     "metadata": {},
     "output_type": "display_data"
    }
   ],
   "source": [
    "data.hist(bins=5)"
   ]
  },
  {
   "cell_type": "code",
   "execution_count": 8,
   "id": "e48bafcf",
   "metadata": {},
   "outputs": [
    {
     "data": {
      "text/html": [
       "<div>\n",
       "<style scoped>\n",
       "    .dataframe tbody tr th:only-of-type {\n",
       "        vertical-align: middle;\n",
       "    }\n",
       "\n",
       "    .dataframe tbody tr th {\n",
       "        vertical-align: top;\n",
       "    }\n",
       "\n",
       "    .dataframe thead th {\n",
       "        text-align: right;\n",
       "    }\n",
       "</style>\n",
       "<table border=\"1\" class=\"dataframe\">\n",
       "  <thead>\n",
       "    <tr style=\"text-align: right;\">\n",
       "      <th></th>\n",
       "      <th>HS GPA</th>\n",
       "      <th>SAT Score</th>\n",
       "    </tr>\n",
       "  </thead>\n",
       "  <tbody>\n",
       "    <tr>\n",
       "      <th>HS GPA</th>\n",
       "      <td>1.000000</td>\n",
       "      <td>0.429649</td>\n",
       "    </tr>\n",
       "    <tr>\n",
       "      <th>SAT Score</th>\n",
       "      <td>0.429649</td>\n",
       "      <td>1.000000</td>\n",
       "    </tr>\n",
       "  </tbody>\n",
       "</table>\n",
       "</div>"
      ],
      "text/plain": [
       "             HS GPA  SAT Score\n",
       "HS GPA     1.000000   0.429649\n",
       "SAT Score  0.429649   1.000000"
      ]
     },
     "execution_count": 8,
     "metadata": {},
     "output_type": "execute_result"
    }
   ],
   "source": [
    "data.corr()"
   ]
  },
  {
   "cell_type": "code",
   "execution_count": null,
   "id": "dab91934",
   "metadata": {},
   "outputs": [],
   "source": []
  },
  {
   "cell_type": "code",
   "execution_count": 16,
   "id": "8a396b22",
   "metadata": {},
   "outputs": [],
   "source": [
    "y = data['HS GPA'].values.reshape(-1,1)\n",
    "x = data['SAT Score'].values.reshape(-1,1)"
   ]
  },
  {
   "cell_type": "code",
   "execution_count": 17,
   "id": "0177778b",
   "metadata": {},
   "outputs": [
    {
     "data": {
      "image/png": "[encoded data removed]",
      "text/plain": [
       "<Figure size 640x480 with 1 Axes>"
      ]
     },
     "metadata": {},
     "output_type": "display_data"
    }
   ],
   "source": [
    "plt.scatter(x,y, color = 'red')\n",
    "plt.xlabel = \"SAT Score\"\n",
    "plt.ylabel = 'HS GPA'"
   ]
  },
  {
   "cell_type": "code",
   "execution_count": 18,
   "id": "c21a7ef8",
   "metadata": {},
   "outputs": [],
   "source": [
    "from sklearn.model_selection import train_test_split"
   ]
  },
  {
   "cell_type": "code",
   "execution_count": 58,
   "id": "44b86131",
   "metadata": {},
   "outputs": [],
   "source": [
    "xtr, xts, ytr,yts = train_test_split(x, y, test_size=0.3, random_state=100)"
   ]
  },
  {
   "cell_type": "code",
   "execution_count": 59,
   "id": "0c1fb60f",
   "metadata": {},
   "outputs": [
    {
     "name": "stdout",
     "output_type": "stream",
     "text": [
      "xtrain (700, 1)\n",
      "xtest (300, 1)\n",
      "ytrain (700, 1)\n",
      "ytest (300, 1)\n"
     ]
    }
   ],
   "source": [
    "print(\"xtrain\", xtr.shape)\n",
    "print(\"xtest\", xts.shape)\n",
    "print(\"ytrain\", ytr.shape)\n",
    "print(\"ytest\", yts.shape)"
   ]
  },
  {
   "cell_type": "code",
   "execution_count": 60,
   "id": "263a5f50",
   "metadata": {},
   "outputs": [],
   "source": [
    "from sklearn.linear_model import LinearRegression\n",
    "\n",
    "lr = LinearRegression()\n",
    "\n",
    "model = lr.fit(xtr, ytr)"
   ]
  },
  {
   "cell_type": "code",
   "execution_count": 61,
   "id": "c6efee15",
   "metadata": {},
   "outputs": [],
   "source": [
    "ypred = model.predict(xts)"
   ]
  },
  {
   "cell_type": "code",
   "execution_count": 91,
   "id": "df43868f",
   "metadata": {},
   "outputs": [
    {
     "data": {
      "text/plain": [
       "array([[2.1],\n",
       "       [3.7],\n",
       "       [2.5],\n",
       "       [3.8],\n",
       "       [3. ],\n",
       "       [4. ],\n",
       "       [2.6],\n",
       "       [2.2],\n",
       "       [3.5]])"
      ]
     },
     "execution_count": 91,
     "metadata": {},
     "output_type": "execute_result"
    }
   ],
   "source": [
    "yts[1:10]"
   ]
  },
  {
   "cell_type": "code",
   "execution_count": 92,
   "id": "603f4577",
   "metadata": {},
   "outputs": [
    {
     "data": {
      "text/plain": [
       "array([[3.41811802],\n",
       "       [3.19086374],\n",
       "       [2.88244722],\n",
       "       [3.23956109],\n",
       "       [3.30449088],\n",
       "       [3.20709619],\n",
       "       [3.09346905],\n",
       "       [3.35318822],\n",
       "       [3.45058291]])"
      ]
     },
     "execution_count": 92,
     "metadata": {},
     "output_type": "execute_result"
    }
   ],
   "source": [
    "ypred[1:10]\n"
   ]
  },
  {
   "cell_type": "code",
   "execution_count": 72,
   "id": "028cf3a2",
   "metadata": {},
   "outputs": [
    {
     "data": {
      "image/png": "[encoded data removed]",
      "text/plain": [
       "<Figure size 640x480 with 1 Axes>"
      ]
     },
     "metadata": {},
     "output_type": "display_data"
    }
   ],
   "source": [
    "plt.scatter(x,y, color = 'red')\n",
    "plt.plot(xts, ypred)\n",
    "plt.xlabel = \"SAT\"\n",
    "plt.ylabel= \"gpa\""
   ]
  },
  {
   "cell_type": "code",
   "execution_count": 64,
   "id": "5feea2b0",
   "metadata": {},
   "outputs": [],
   "source": [
    "from sklearn.metrics import mean_absolute_error, mean_squared_error, r2_score"
   ]
  },
  {
   "cell_type": "code",
   "execution_count": 65,
   "id": "7911da42",
   "metadata": {},
   "outputs": [
    {
     "name": "stdout",
     "output_type": "stream",
     "text": [
      "0.40284406074021456\n"
     ]
    }
   ],
   "source": [
    "print(mean_absolute_error(yts,ypred))"
   ]
  },
  {
   "cell_type": "code",
   "execution_count": 66,
   "id": "5964f971",
   "metadata": {},
   "outputs": [
    {
     "name": "stdout",
     "output_type": "stream",
     "text": [
      "0.23691150375684175\n"
     ]
    }
   ],
   "source": [
    "print(mean_squared_error(yts,ypred))"
   ]
  },
  {
   "cell_type": "code",
   "execution_count": 67,
   "id": "a36a60d3",
   "metadata": {},
   "outputs": [
    {
     "name": "stdout",
     "output_type": "stream",
     "text": [
      "0.4867355583444071\n"
     ]
    }
   ],
   "source": [
    "from math import sqrt as sqrt\n",
    "print(sqrt(mean_squared_error(yts,ypred)))"
   ]
  },
  {
   "cell_type": "code",
   "execution_count": 68,
   "id": "fe0dd4c5",
   "metadata": {},
   "outputs": [],
   "source": [
    "r2 = r2_score(yts, ypred)"
   ]
  },
  {
   "cell_type": "code",
   "execution_count": 69,
   "id": "fbcac464",
   "metadata": {},
   "outputs": [
    {
     "data": {
      "text/plain": [
       "0.19285344730291298"
      ]
     },
     "execution_count": 69,
     "metadata": {},
     "output_type": "execute_result"
    }
   ],
   "source": [
    "r2"
   ]
  },
  {
   "cell_type": "code",
   "execution_count": 76,
   "id": "1de85841",
   "metadata": {},
   "outputs": [],
   "source": [
    "N = len(yts)\n",
    "p =1\n",
    "\n",
    "adjustedR2 =1 - ((1-r2)*(1-N)/(N-p-1))"
   ]
  },
  {
   "cell_type": "code",
   "execution_count": 77,
   "id": "af63762c",
   "metadata": {},
   "outputs": [
    {
     "data": {
      "text/plain": [
       "1.8098550981759363"
      ]
     },
     "execution_count": 77,
     "metadata": {},
     "output_type": "execute_result"
    }
   ],
   "source": [
    "adjustedR2"
   ]
  },
  {
   "cell_type": "code",
   "execution_count": 83,
   "id": "9e1baa3e",
   "metadata": {},
   "outputs": [
    {
     "data": {
      "text/plain": [
       "array([[3.46681536],\n",
       "       [3.1421664 ],\n",
       "       [2.81751743],\n",
       "       [2.33054398],\n",
       "       [1.84357053]])"
      ]
     },
     "execution_count": 83,
     "metadata": {},
     "output_type": "execute_result"
    }
   ],
   "source": [
    "model.predict([[1200], [1000], [800], [500], [200]])"
   ]
  },
  {
   "cell_type": "code",
   "execution_count": 93,
   "id": "279586be",
   "metadata": {},
   "outputs": [
    {
     "data": {
      "text/plain": [
       "array([[0.00162324]])"
      ]
     },
     "execution_count": 93,
     "metadata": {},
     "output_type": "execute_result"
    }
   ],
   "source": [
    "model.coef_"
   ]
  },
  {
   "cell_type": "code",
   "execution_count": 94,
   "id": "c7b9e857",
   "metadata": {},
   "outputs": [
    {
     "data": {
      "text/plain": [
       "array([1.51892156])"
      ]
     },
     "execution_count": 94,
     "metadata": {},
     "output_type": "execute_result"
    }
   ],
   "source": [
    "model.intercept_"
   ]
  },
  {
   "cell_type": "raw",
   "id": "7c848467",
   "metadata": {},
   "source": []
  },
  {
   "cell_type": "code",
   "execution_count": 95,
   "id": "f214833f",
   "metadata": {},
   "outputs": [],
   "source": [
    "import pickle"
   ]
  },
  {
   "cell_type": "code",
   "execution_count": 97,
   "id": "61533ecf",
   "metadata": {},
   "outputs": [],
   "source": [
    "with open('D:\\Apractice100\\linearRegression\\\\bivariateLR.pkl', 'wb') as pikle_file:\n",
    "    pickle.dump(model,pikle_file)\n",
    "    "
   ]
  },
  {
   "cell_type": "code",
   "execution_count": 100,
   "id": "a322d374",
   "metadata": {},
   "outputs": [],
   "source": [
    "#to load the model saved\n",
    "with open('D:\\Apractice100\\linearRegression\\\\bivariateLR.pkl', 'rb') as pikle_f:\n",
    "    loded_model= pickle.load(pikle_f)"
   ]
  },
  {
   "cell_type": "code",
   "execution_count": 104,
   "id": "359be543",
   "metadata": {},
   "outputs": [
    {
     "data": {
      "text/plain": [
       "array([[3.46681536]])"
      ]
     },
     "execution_count": 104,
     "metadata": {},
     "output_type": "execute_result"
    }
   ],
   "source": [
    "loded_model.predict([[1200]])"
   ]
  },
  {
   "cell_type": "code",
   "execution_count": null,
   "id": "baa119c8",
   "metadata": {},
   "outputs": [],
   "source": []
  }
 ],
 "metadata": {
  "kernelspec": {
   "display_name": "Python 3 (ipykernel)",
   "language": "python",
   "name": "python3"
  },
  "language_info": {
   "codemirror_mode": {
    "name": "ipython",
    "version": 3
   },
   "file_extension": ".py",
   "mimetype": "text/x-python",
   "name": "python",
   "nbconvert_exporter": "python",
   "pygments_lexer": "ipython3",
   "version": "3.10.9"
  }
 },
 "nbformat": 4,
 "nbformat_minor": 5
}
